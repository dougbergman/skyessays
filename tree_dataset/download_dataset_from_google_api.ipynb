{
 "cells": [
  {
   "cell_type": "markdown",
   "metadata": {},
   "source": [
    "### Load data from .csv file\n",
    "- train-images-boxable.csv file contains the image name and image url\n",
    "- train-annotations-bbox.csv file contains the bounding box info with the image id (name) and the image label name\n",
    "- class-descriptions-boxable.csv file contains the image label name corresponding to its class name\n",
    "\n",
    "https://storage.googleapis.com/openimages/web/download.html\n",
    "https://storage.googleapis.com/openimages/2018_04/bbox_labels_600_hierarchy_visualizer/circle.html"
   ]
  },
  {
   "cell_type": "code",
   "execution_count": null,
   "metadata": {},
   "outputs": [],
   "source": [
    "import os\n",
    "import random\n",
    "import numpy as np\n",
    "import pandas as pd\n",
    "from skimage import io"
   ]
  },
  {
   "cell_type": "code",
   "execution_count": null,
   "metadata": {},
   "outputs": [],
   "source": [
    "DIR = os.getcwd()"
   ]
  },
  {
   "cell_type": "code",
   "execution_count": null,
   "metadata": {
    "scrolled": true
   },
   "outputs": [],
   "source": [
    "images_boxable = pd.read_csv('train-images-boxable.csv')\n",
    "images_boxable.head()"
   ]
  },
  {
   "cell_type": "code",
   "execution_count": null,
   "metadata": {},
   "outputs": [],
   "source": [
    "annotations_bbox = pd.read_csv('train-annotations-bbox.csv')\n",
    "annotations_bbox.head()"
   ]
  },
  {
   "cell_type": "code",
   "execution_count": null,
   "metadata": {},
   "outputs": [],
   "source": [
    "class_descriptions = pd.read_csv('class-descriptions-boxable.csv')\n",
    "class_descriptions.head()"
   ]
  },
  {
   "cell_type": "markdown",
   "metadata": {},
   "source": [
    "### Get subset with maple and christmas tree"
   ]
  },
  {
   "cell_type": "code",
   "execution_count": null,
   "metadata": {},
   "outputs": [],
   "source": [
    "maple_pd = class_descriptions[class_descriptions['class'] == 'Maple']\n",
    "christmas_tree_pd = class_descriptions[class_descriptions['class'] == 'Christmas tree']"
   ]
  },
  {
   "cell_type": "code",
   "execution_count": null,
   "metadata": {},
   "outputs": [],
   "source": [
    "label_name_maple = maple_pd['name'].values[0]\n",
    "label_name_christmas_tree = christmas_tree_pd['name'].values[0]"
   ]
  },
  {
   "cell_type": "code",
   "execution_count": null,
   "metadata": {},
   "outputs": [],
   "source": [
    "print('Maple label:', label_name_maple)\n",
    "print('Christmas tree:', label_name_christmas_tree)"
   ]
  },
  {
   "cell_type": "code",
   "execution_count": null,
   "metadata": {},
   "outputs": [],
   "source": [
    "maple_bbox = annotations_bbox[annotations_bbox['LabelName'] == label_name_maple]\n",
    "christmas_tree_bbox = annotations_bbox[annotations_bbox['LabelName'] == label_name_christmas_tree]"
   ]
  },
  {
   "cell_type": "code",
   "execution_count": null,
   "metadata": {},
   "outputs": [],
   "source": [
    "print(f'{len(maple_bbox)} maples in the dataset')\n",
    "print(f'{len(christmas_tree_bbox)} christmas trees in the dataset')"
   ]
  },
  {
   "cell_type": "code",
   "execution_count": null,
   "metadata": {},
   "outputs": [],
   "source": [
    "maple_img_id = maple_bbox['ImageID']\n",
    "christmas_tree_id = christmas_tree_bbox['ImageID']\n",
    "maple_img_id = np.unique(maple_img_id)\n",
    "christmas_tree_id = np.unique(christmas_tree_id)"
   ]
  },
  {
   "cell_type": "code",
   "execution_count": null,
   "metadata": {},
   "outputs": [],
   "source": [
    "print(f'{len(maple_img_id)} images which contain maples')\n",
    "print(f'{len(christmas_tree_id)} images which contain christmas trees')"
   ]
  },
  {
   "cell_type": "markdown",
   "metadata": {},
   "source": [
    "Pick 1000 random imgs for each"
   ]
  },
  {
   "cell_type": "code",
   "execution_count": null,
   "metadata": {},
   "outputs": [],
   "source": [
    "copy_maple_id = maple_img_id.copy()\n",
    "random.seed(1)\n",
    "random.shuffle(copy_maple_id)\n",
    "\n",
    "copy_christmas_tree_id = christmas_tree_id.copy()\n",
    "random.seed(1)\n",
    "random.shuffle(copy_christmas_tree_id)\n",
    "\n",
    "n = 1000\n",
    "subset_maple_img_id = copy_maple_id[:n]\n",
    "subset_christmas_tree_img_id = copy_christmas_tree_id[:n]"
   ]
  },
  {
   "cell_type": "code",
   "execution_count": null,
   "metadata": {},
   "outputs": [],
   "source": [
    "subset_maple_img_url = [images_boxable[images_boxable['image_name'] == name + '.jpg'] for name in subset_maple_img_id]\n",
    "subset_christmas_tree_img_url = [images_boxable[images_boxable['image_name'] == name + '.jpg'] for name in subset_christmas_tree_img_id]"
   ]
  },
  {
   "cell_type": "code",
   "execution_count": null,
   "metadata": {},
   "outputs": [],
   "source": [
    "subset_maple_df = pd.DataFrame()\n",
    "subset_christmas_tree_df = pd.DataFrame()\n",
    "\n",
    "for i in range(len(subset_maple_img_url)):\n",
    "    subset_maple_df = subset_maple_df.append(subset_maple_img_url[i], ignore_index=True)\n",
    "    subset_christmas_tree_df = subset_christmas_tree_df.append(subset_christmas_tree_img_url[i], ignore_index=True)\n",
    "    \n",
    "subset_maple_df.to_csv(os.path.join(DIR ,'subset_maple.csv'))\n",
    "subset_christmas_tree_df.to_csv(os.path.join(DIR, 'subset_christmas_tree.csv'))"
   ]
  },
  {
   "cell_type": "code",
   "execution_count": null,
   "metadata": {},
   "outputs": [],
   "source": [
    "subset_maple_df.head()"
   ]
  },
  {
   "cell_type": "code",
   "execution_count": null,
   "metadata": {},
   "outputs": [],
   "source": [
    "maple_urls = subset_maple_df['image_url'].values\n",
    "christmas_tree_urls = subset_christmas_tree_df['image_url'].values"
   ]
  },
  {
   "cell_type": "markdown",
   "metadata": {},
   "source": [
    "### Download images"
   ]
  },
  {
   "cell_type": "code",
   "execution_count": null,
   "metadata": {},
   "outputs": [],
   "source": [
    "os.mkdir(os.path.join(DIR, 'images'))"
   ]
  },
  {
   "cell_type": "code",
   "execution_count": null,
   "metadata": {},
   "outputs": [],
   "source": [
    "for url in maple_urls:\n",
    "    img = io.imread(url)\n",
    "    img_path = os.path.join(DIR, url.split('/')[-1])\n",
    "    io.imsave(img_path, img)\n",
    "    \n",
    "for url in christmas_tree_urls:\n",
    "    img = io.imread(url)\n",
    "    img_path = os.path.join(DIR, url.split('/')[-1])\n",
    "    io.imsave(img_path, img)"
   ]
  }
 ],
 "metadata": {
  "kernelspec": {
   "display_name": "Python 3",
   "language": "python",
   "name": "python3"
  },
  "language_info": {
   "codemirror_mode": {
    "name": "ipython",
    "version": 3
   },
   "file_extension": ".py",
   "mimetype": "text/x-python",
   "name": "python",
   "nbconvert_exporter": "python",
   "pygments_lexer": "ipython3",
   "version": "3.6.6"
  }
 },
 "nbformat": 4,
 "nbformat_minor": 2
}
